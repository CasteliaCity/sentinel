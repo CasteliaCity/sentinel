{
 "cells": [
  {
   "cell_type": "code",
   "execution_count": null,
   "metadata": {
    "collapsed": true
   },
   "outputs": [],
   "source": [
    "%matplotlib notebook\n",
    "\n",
    "import matplotlib\n",
    "import numpy as np\n",
    "import matplotlib.pyplot as plt\n",
    "import json"
   ]
  },
  {
   "cell_type": "code",
   "execution_count": null,
   "metadata": {
    "collapsed": false
   },
   "outputs": [],
   "source": [
    "results = []\n",
    "with open('sentinel.json') as f:\n",
    "    for line in f:\n",
    "        results.append(json.loads(line))\n",
    "print(\"loaded {} test records\".format(len(results)))"
   ]
  },
  {
   "cell_type": "code",
   "execution_count": null,
   "metadata": {
    "collapsed": false
   },
   "outputs": [],
   "source": [
    "# results[0]['results'].keys()"
   ]
  },
  {
   "cell_type": "code",
   "execution_count": null,
   "metadata": {
    "collapsed": false
   },
   "outputs": [],
   "source": [
    "fwd3v = [(x['results']['LimitSwitchFwdClosed3vCurrent']['actual']) for x in results]\n",
    "rev3v = [(x['results']['LimitSwitchRevClosed3vCurrent']['actual']) for x in results]"
   ]
  },
  {
   "cell_type": "code",
   "execution_count": null,
   "metadata": {
    "collapsed": false
   },
   "outputs": [],
   "source": [
    "plt.ylim(2.75, 3.0)\n",
    "plt.plot(fwd3v, \"o\", color = \"r\")\n",
    "plt.plot(rev3v, \"o\", color = \"g\")"
   ]
  },
  {
   "cell_type": "code",
   "execution_count": null,
   "metadata": {
    "collapsed": true
   },
   "outputs": [],
   "source": [
    "qa5v = [(x['results']['QuadEncoderLogicALow5vCurrent']['actual']) for x in results]\n",
    "qb5v = [(x['results']['QuadEncoderLogicBLow5vCurrent']['actual']) for x in results]\n",
    "qi5v = [(x['results']['QuadEncoderLogicILow5vCurrent']['actual']) for x in results]"
   ]
  },
  {
   "cell_type": "code",
   "execution_count": null,
   "metadata": {
    "collapsed": false
   },
   "outputs": [],
   "source": [
    "plt.ylim(1.8, 1.9)\n",
    "plt.plot(qa5v, \"o\", color = \"r\")\n",
    "plt.plot(qb5v, \"o\", color = \"g\")\n",
    "plt.plot(qi5v, \"o\", color = \"b\")"
   ]
  },
  {
   "cell_type": "code",
   "execution_count": null,
   "metadata": {
    "collapsed": true
   },
   "outputs": [],
   "source": []
  }
 ],
 "metadata": {
  "kernelspec": {
   "display_name": "Python 3",
   "language": "python",
   "name": "python3"
  },
  "language_info": {
   "codemirror_mode": {
    "name": "ipython",
    "version": 3
   },
   "file_extension": ".py",
   "mimetype": "text/x-python",
   "name": "python",
   "nbconvert_exporter": "python",
   "pygments_lexer": "ipython3",
   "version": "3.5.2"
  }
 },
 "nbformat": 4,
 "nbformat_minor": 1
}
